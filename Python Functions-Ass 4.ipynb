{
 "cells": [
  {
   "cell_type": "markdown",
   "id": "5292f5cc-fb52-4019-8426-ca18fd9370a8",
   "metadata": {},
   "source": [
    "### 1. What does the len() function do in Python? Write a code example using len() to find the length of a list."
   ]
  },
  {
   "cell_type": "markdown",
   "id": "34ffe72f-e8a7-4858-baa0-306eaf4c9537",
   "metadata": {},
   "source": [
    "##### The len() function in Python is used to determine the number of elements in a data structure such as a list, tuple, dictionary, or string. \n",
    "##### It returns an integer representing the total number of items."
   ]
  },
  {
   "cell_type": "code",
   "execution_count": 20,
   "id": "63fdb99f-2872-4402-927d-4e9424dd3cb3",
   "metadata": {},
   "outputs": [
    {
     "name": "stdout",
     "output_type": "stream",
     "text": [
      "The length of the list  [2, 4, 6, 8] is : 4\n"
     ]
    }
   ],
   "source": [
    "list=[2,4,6,8]   # CREATING A SIMPLE LIST\n",
    "\n",
    "length=len(list) # FINDING THE LENGTH OF THE LIST\n",
    "\n",
    "print(\"The length of the list \", list, \"is :\", length) # DISPLAYING THE RESULT\n"
   ]
  },
  {
   "cell_type": "markdown",
   "id": "e75923d8-6aff-42f6-88f5-685cfcb3ccb3",
   "metadata": {},
   "source": [
    "### 2. Write a Python function greet(name) that takes a person's name as input and prints \"Hello, [name]!\"."
   ]
  },
  {
   "cell_type": "code",
   "execution_count": 34,
   "id": "ed984f0b-a236-4b51-ae27-c2774e9c0194",
   "metadata": {},
   "outputs": [
    {
     "name": "stdout",
     "output_type": "stream",
     "text": [
      "Hello, Liana!\n"
     ]
    }
   ],
   "source": [
    "# DEFINING THE GREETING FUNCTION\n",
    "\n",
    "def greet(name):\n",
    "    print(f\"Hello, {name}!\")\n",
    "\n",
    "#EXAMPLE USAGE\n",
    "greet(\"Liana\")"
   ]
  },
  {
   "cell_type": "markdown",
   "id": "501bba7f-8c13-4d6e-b8fd-5b323a67f269",
   "metadata": {},
   "source": [
    "### 3. Write a Python function find_maximum(numbers) that takes a list of integers and returns the maximum value without using the built-in max()   function. \n",
    "###    Use a loop to iterate through the list and compare values."
   ]
  },
  {
   "cell_type": "code",
   "execution_count": 81,
   "id": "5b344964-7797-4779-9dab-6b5bb1fca4c6",
   "metadata": {},
   "outputs": [
    {
     "name": "stdout",
     "output_type": "stream",
     "text": [
      "The maximum value in the list is : 23\n"
     ]
    }
   ],
   "source": [
    "\n",
    "def find_maximum(numbers):\n",
    "    if not numbers:\n",
    "        return None\n",
    "       \n",
    "    maxvalue=numbers[0]\n",
    "        \n",
    "    for num in numbers:\n",
    "        if num>maxvalue:\n",
    "            maxvalue=num\n",
    "   \n",
    "    return maxvalue\n",
    "                \n",
    "numbers=[8,7,3,10,23,6]\n",
    "result=find_maximum(numbers)\n",
    "print(f\"The maximum value in the list is : {result}\")\n",
    "        \n",
    "\n",
    "\n"
   ]
  },
  {
   "cell_type": "markdown",
   "id": "f66435ba-70ac-4ba0-bdd9-2a1ffedbe50e",
   "metadata": {},
   "source": [
    "### Explain the difference between local and global variables in a Python function. Write a program where a global variable and a local variable have the same name and show how Python differentiates between them.\n"
   ]
  },
  {
   "cell_type": "code",
   "execution_count": 88,
   "id": "565a4cda-cf31-42fa-ac34-89557c767664",
   "metadata": {},
   "outputs": [
    {
     "name": "stdout",
     "output_type": "stream",
     "text": [
      "Inside the function: I am the Local Variable\n",
      "Outside the function: I am the Global Variable\n",
      "After modifying the variable: I am the modified Global Variable\n"
     ]
    }
   ],
   "source": [
    "message=\"I am the Global Variable\"\n",
    "\n",
    "def local():\n",
    "    message=\"I am the Local Variable\"\n",
    "    print(\"Inside the function:\",message)\n",
    "\n",
    "def modify_global():\n",
    "    global message\n",
    "    message=\"I am the modified Global Variable\"\n",
    "\n",
    "local()\n",
    "print(\"Outside the function:\",message)\n",
    "\n",
    "modify_global()\n",
    "print(\"After modifying the variable:\",message)\n"
   ]
  },
  {
   "cell_type": "markdown",
   "id": "bde82065-354e-436a-a76c-07a65533a174",
   "metadata": {},
   "source": [
    "### Create a function calculate_area(length, width=5) that calculates the area of a rectangle. If only the length is provided, the function should assume the width is 5. Show how the function behaves when called with and without the width argument.\n"
   ]
  },
  {
   "cell_type": "code",
   "execution_count": 93,
   "id": "3cf76d84-ea19-4c4e-a969-14f2f4e7e6cf",
   "metadata": {},
   "outputs": [
    {
     "name": "stdout",
     "output_type": "stream",
     "text": [
      "The area without width argument is: 80\n",
      "The area with width argument as 5 by default is: 50\n"
     ]
    }
   ],
   "source": [
    "def calculate_area(length,width=5):\n",
    "    return length*width\n",
    "\n",
    "area1=calculate_area(10,8)\n",
    "print(\"The area without width argument is:\",area1)\n",
    "\n",
    "area2=calculate_area(10)\n",
    "print(\"The area with width argument as 5 by default is:\",area2)\n",
    "    "
   ]
  },
  {
   "cell_type": "code",
   "execution_count": null,
   "id": "6c31b4d3-ae81-46af-bb0f-ed0fbda70c8a",
   "metadata": {},
   "outputs": [],
   "source": []
  }
 ],
 "metadata": {
  "kernelspec": {
   "display_name": "Python [conda env:base] *",
   "language": "python",
   "name": "conda-base-py"
  },
  "language_info": {
   "codemirror_mode": {
    "name": "ipython",
    "version": 3
   },
   "file_extension": ".py",
   "mimetype": "text/x-python",
   "name": "python",
   "nbconvert_exporter": "python",
   "pygments_lexer": "ipython3",
   "version": "3.12.7"
  }
 },
 "nbformat": 4,
 "nbformat_minor": 5
}
